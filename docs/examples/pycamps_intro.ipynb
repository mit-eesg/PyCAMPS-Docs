{
  "nbformat": 4,
  "nbformat_minor": 0,
  "metadata": {
    "colab": {
      "provenance": []
    },
    "kernelspec": {
      "name": "python3",
      "display_name": "Python 3"
    },
    "language_info": {
      "name": "python"
    }
  },
  "cells": [
    {
      "cell_type": "markdown",
      "source": [
        "# Intro to PyCAMPS\n",
        "\n",
        "The Centralized Automated Modeling of Power Systems library in Python (PyCAMPS) is a library that allows users to easily set up power systems, analyze stability, and run simulations. This notebook will go through a simple example and walk you through the different functions you can use."
      ],
      "metadata": {
        "id": "dY7Zn3z1UnoP"
      }
    },
    {
      "cell_type": "markdown",
      "source": [
        "### Boilerplate"
      ],
      "metadata": {
        "id": "swqaOhRnUi8N"
      }
    },
    {
      "cell_type": "code",
      "source": [
        "!pip install pycamps==0.0.9\n",
        "!pip install plotly"
      ],
      "metadata": {
        "colab": {
          "base_uri": "https://localhost:8080/"
        },
        "id": "376Qg8wVBt6J",
        "outputId": "c11adb3f-2a3d-41b3-f1ae-665b99f558de"
      },
      "execution_count": 3,
      "outputs": [
        {
          "output_type": "stream",
          "name": "stdout",
          "text": [
            "Collecting pycamps==0.0.9\n",
            "  Downloading pycamps-0.0.9-py3-none-any.whl.metadata (1.4 kB)\n",
            "Requirement already satisfied: matplotlib in /usr/local/lib/python3.10/dist-packages (from pycamps==0.0.9) (3.7.1)\n",
            "Requirement already satisfied: mpmath in /usr/local/lib/python3.10/dist-packages (from pycamps==0.0.9) (1.3.0)\n",
            "Requirement already satisfied: numpy in /usr/local/lib/python3.10/dist-packages (from pycamps==0.0.9) (1.26.4)\n",
            "Requirement already satisfied: pytest in /usr/local/lib/python3.10/dist-packages (from pycamps==0.0.9) (7.4.4)\n",
            "Requirement already satisfied: scipy in /usr/local/lib/python3.10/dist-packages (from pycamps==0.0.9) (1.13.1)\n",
            "Requirement already satisfied: sympy in /usr/local/lib/python3.10/dist-packages (from pycamps==0.0.9) (1.13.2)\n",
            "Requirement already satisfied: contourpy>=1.0.1 in /usr/local/lib/python3.10/dist-packages (from matplotlib->pycamps==0.0.9) (1.3.0)\n",
            "Requirement already satisfied: cycler>=0.10 in /usr/local/lib/python3.10/dist-packages (from matplotlib->pycamps==0.0.9) (0.12.1)\n",
            "Requirement already satisfied: fonttools>=4.22.0 in /usr/local/lib/python3.10/dist-packages (from matplotlib->pycamps==0.0.9) (4.53.1)\n",
            "Requirement already satisfied: kiwisolver>=1.0.1 in /usr/local/lib/python3.10/dist-packages (from matplotlib->pycamps==0.0.9) (1.4.7)\n",
            "Requirement already satisfied: packaging>=20.0 in /usr/local/lib/python3.10/dist-packages (from matplotlib->pycamps==0.0.9) (24.1)\n",
            "Requirement already satisfied: pillow>=6.2.0 in /usr/local/lib/python3.10/dist-packages (from matplotlib->pycamps==0.0.9) (9.4.0)\n",
            "Requirement already satisfied: pyparsing>=2.3.1 in /usr/local/lib/python3.10/dist-packages (from matplotlib->pycamps==0.0.9) (3.1.4)\n",
            "Requirement already satisfied: python-dateutil>=2.7 in /usr/local/lib/python3.10/dist-packages (from matplotlib->pycamps==0.0.9) (2.8.2)\n",
            "Requirement already satisfied: iniconfig in /usr/local/lib/python3.10/dist-packages (from pytest->pycamps==0.0.9) (2.0.0)\n",
            "Requirement already satisfied: pluggy<2.0,>=0.12 in /usr/local/lib/python3.10/dist-packages (from pytest->pycamps==0.0.9) (1.5.0)\n",
            "Requirement already satisfied: exceptiongroup>=1.0.0rc8 in /usr/local/lib/python3.10/dist-packages (from pytest->pycamps==0.0.9) (1.2.2)\n",
            "Requirement already satisfied: tomli>=1.0.0 in /usr/local/lib/python3.10/dist-packages (from pytest->pycamps==0.0.9) (2.0.1)\n",
            "Requirement already satisfied: six>=1.5 in /usr/local/lib/python3.10/dist-packages (from python-dateutil>=2.7->matplotlib->pycamps==0.0.9) (1.16.0)\n",
            "Downloading pycamps-0.0.9-py3-none-any.whl (82 kB)\n",
            "\u001b[2K   \u001b[90m━━━━━━━━━━━━━━━━━━━━━━━━━━━━━━━━━━━━━━━━\u001b[0m \u001b[32m82.1/82.1 kB\u001b[0m \u001b[31m1.8 MB/s\u001b[0m eta \u001b[36m0:00:00\u001b[0m\n",
            "\u001b[?25hInstalling collected packages: pycamps\n",
            "  Attempting uninstall: pycamps\n",
            "    Found existing installation: PyCAMPS 0.0.8\n",
            "    Uninstalling PyCAMPS-0.0.8:\n",
            "      Successfully uninstalled PyCAMPS-0.0.8\n",
            "Successfully installed pycamps-0.0.9\n",
            "Requirement already satisfied: plotly in /usr/local/lib/python3.10/dist-packages (5.15.0)\n",
            "Requirement already satisfied: tenacity>=6.2.0 in /usr/local/lib/python3.10/dist-packages (from plotly) (9.0.0)\n",
            "Requirement already satisfied: packaging in /usr/local/lib/python3.10/dist-packages (from plotly) (24.1)\n"
          ]
        }
      ]
    },
    {
      "cell_type": "code",
      "source": [
        "from pycamps.modules import Type4_1, RLLoad, LongLine\n",
        "from pycamps.simulation import Dynamics, PowerSystem, StateSpace\n",
        "from pycamps.logger import configure_logging\n",
        "from sympy import symbols, pprint\n",
        "from sympy import latex, init_printing\n",
        "init_printing(use_latex='mathjax')\n",
        "from IPython.display import display, Math\n",
        "import plotly.graph_objects as go\n",
        "from plotly.subplots import make_subplots\n",
        "\n",
        "import os\n",
        "os.environ['LOG_LEVEL'] = 'INFO'\n",
        "logger = configure_logging(log_to_console=True, log_to_file=False)"
      ],
      "metadata": {
        "id": "Mez5wmskXpmh"
      },
      "execution_count": 4,
      "outputs": []
    },
    {
      "cell_type": "code",
      "source": [
        "def display_equations(M):\n",
        "  for i, equation in enumerate(M):\n",
        "    latex_equations = latex(equation, mul_symbol='dot').replace('{eq}\\'', '{{eq}^{\\prime}}')\n",
        "    latex_equations = latex_equations.replace('{xd}\\'', '{{xd}^{\\prime}}')\n",
        "    latex_equations = latex_equations.replace('dphidt', '\\\\frac{d \\phi}{dt}')\n",
        "    latex_equations = r\"\\textbf{(\" + str(i+1) + r\")} \\quad \" + latex_equations\n",
        "    display(Math(latex_equations))\n",
        "\n",
        "def display_matrix(M):\n",
        "  latex_equations = latex(M, mul_symbol='dot').replace('{eq}\\'', '{{eq}^{\\prime}}')\n",
        "  latex_equations = latex_equations.replace('{xd}\\'', '{{xd}^{\\prime}}')\n",
        "  latex_equations = latex_equations.replace('dphidt', '\\\\frac{d \\phi}{dt}')\n",
        "  display(Math(latex_equations))"
      ],
      "metadata": {
        "id": "alCeqnqBdRmm"
      },
      "execution_count": 5,
      "outputs": []
    },
    {
      "cell_type": "code",
      "source": [
        "import plotly.io as pio\n",
        "pio.renderers.default = \"colab\"\n",
        "\n",
        "import plotly.graph_objects as go\n",
        "\n",
        "def plot_trajectory(time, states):\n",
        "    fig = go.Figure()\n",
        "    n = max(1, len(time) // 1000)\n",
        "\n",
        "    # Create traces for each state\n",
        "    for variable_name, array in states.items():\n",
        "        fig.add_trace(go.Scatter(x=time[::n], y=array[::n], name=variable_name, visible=True))\n",
        "\n",
        "    buttons = [ dict(\n",
        "                    label='All',\n",
        "                    method=\"update\",\n",
        "                    args=[{\"visible\": [True]*len(states)},\n",
        "                          {\"title\": 'All'}]\n",
        "                )\n",
        "              ]\n",
        "    # Create updatemenus (checkboxes)\n",
        "    updatemenus = [\n",
        "        dict(\n",
        "            type=\"dropdown\",\n",
        "            direction=\"down\",\n",
        "            active=0,\n",
        "            x=1.02,\n",
        "            y=1,\n",
        "            yanchor=\"top\",\n",
        "            buttons=buttons + [\n",
        "                dict(\n",
        "                    label=variable_name,\n",
        "                    method=\"update\",\n",
        "                    args=[{\"visible\": [var == variable_name for var in states.keys()]},\n",
        "                          {\"title\": variable_name}]\n",
        "                ) for variable_name in states.keys()\n",
        "            ],\n",
        "        )\n",
        "    ]\n",
        "\n",
        "    # Update layout\n",
        "    fig.update_layout(\n",
        "        updatemenus=updatemenus,\n",
        "        showlegend=True,\n",
        "        legend=dict(x=1.02, y=0.5),\n",
        "        margin=dict(r=200),  # Add right margin for the menu\n",
        "        width=1000,  # Increase overall width\n",
        "        height=600,  # Set a reasonable height\n",
        "    )\n",
        "\n",
        "    # Add a rangeslider\n",
        "    fig.update_xaxes(rangeslider_visible=True)\n",
        "\n",
        "    # Show the plot\n",
        "    fig.show()"
      ],
      "metadata": {
        "id": "NS6Fz_3Syv0P"
      },
      "execution_count": 6,
      "outputs": []
    },
    {
      "cell_type": "markdown",
      "source": [
        "### Setting up the power system"
      ],
      "metadata": {
        "id": "CXK_e2OyUVW9"
      }
    },
    {
      "cell_type": "markdown",
      "source": [
        "We're going to go through a simple example of setting up a power system and running some simulations."
      ],
      "metadata": {
        "id": "3ZkyKNNkCs7G"
      }
    },
    {
      "cell_type": "markdown",
      "source": [
        "Let's initialize some components of our power system. For this example, our synchronous machine will be a Type 4-1 Generator connected to a standard RL load."
      ],
      "metadata": {
        "id": "Ri7y7zTXVy7H"
      }
    },
    {
      "cell_type": "code",
      "source": [
        "SM = Type4_1('G1', BaseSpeed=377)\n",
        "TL = LongLine('TL_1_2', BaseSpeed=377)\n",
        "L = RLLoad('L1', BaseSpeed=377)\n",
        "Modules = [SM, TL, L]"
      ],
      "metadata": {
        "id": "Y2fu3VShD_YT"
      },
      "execution_count": 7,
      "outputs": []
    },
    {
      "cell_type": "markdown",
      "source": [
        "Let's take a look at our components' state space equations to verify they're correct."
      ],
      "metadata": {
        "id": "ZWsWUge0WQDo"
      }
    },
    {
      "cell_type": "code",
      "source": [
        "display_equations(SM.StateSpaceEquations)"
      ],
      "metadata": {
        "colab": {
          "base_uri": "https://localhost:8080/",
          "height": 138
        },
        "id": "r-TZepilFiWB",
        "outputId": "4f3f47ad-a015-49b6-d45a-bd658adacbd8"
      },
      "execution_count": 8,
      "outputs": [
        {
          "output_type": "display_data",
          "data": {
            "text/plain": [
              "<IPython.core.display.Math object>"
            ],
            "text/latex": "$\\displaystyle \\textbf{(1)} \\quad - 377 \\cdot \\frac{d \\phi}{dt} + 377 \\cdot \\omega_{G1}$"
          },
          "metadata": {}
        },
        {
          "output_type": "display_data",
          "data": {
            "text/plain": [
              "<IPython.core.display.Math object>"
            ],
            "text/latex": "$\\displaystyle \\textbf{(2)} \\quad \\frac{377 \\cdot \\left({{eq}^{\\prime}}_{G1} \\cdot \\left(RS_{G1} \\cdot {{eq}^{\\prime}}_{G1} \\cdot \\cos{\\left(2 \\cdot \\delta_{G1} \\right)} - RS_{G1} \\cdot vSd_{G1} \\cdot \\cos{\\left(\\delta_{G1} \\right)} + RS_{G1} \\cdot vSq_{G1} \\cdot \\sin{\\left(\\delta_{G1} \\right)} + {{eq}^{\\prime}}_{G1} \\cdot {{xd}^{\\prime}}_{G1} \\cdot \\sin{\\left(2 \\cdot \\delta_{G1} \\right)} - vSd_{G1} \\cdot {{xd}^{\\prime}}_{G1} \\cdot \\sin{\\left(\\delta_{G1} \\right)} - vSq_{G1} \\cdot {{xd}^{\\prime}}_{G1} \\cdot \\cos{\\left(\\delta_{G1} \\right)}\\right) + \\left(RS_{G1}^{2} + {{xd}^{\\prime}}_{G1}^{2}\\right) \\cdot \\left(D_{G1} \\cdot \\left(\\frac{d \\phi}{dt} - \\omega_{G1}\\right) + Pm_{G1}\\right)\\right)}{J_{G1} \\cdot \\left(RS_{G1}^{2} + {{xd}^{\\prime}}_{G1}^{2}\\right)}$"
          },
          "metadata": {}
        }
      ]
    },
    {
      "cell_type": "code",
      "source": [
        "display_equations(TL.StateSpaceEquations)"
      ],
      "metadata": {
        "colab": {
          "base_uri": "https://localhost:8080/",
          "height": 325
        },
        "id": "wxQEKCIsauZH",
        "outputId": "c7ff03a2-87d3-4917-9ac5-44713a5d8d56"
      },
      "execution_count": 9,
      "outputs": [
        {
          "output_type": "display_data",
          "data": {
            "text/plain": [
              "<IPython.core.display.Math object>"
            ],
            "text/latex": "$\\displaystyle \\textbf{(1)} \\quad \\frac{377 \\cdot \\left(CTL_{TL 1 2} \\cdot \\frac{d \\phi}{dt} \\cdot vTLLq_{TL 1 2} + iInLd_{TL 1 2} - iTLMd_{TL 1 2}\\right)}{CTL_{TL 1 2}}$"
          },
          "metadata": {}
        },
        {
          "output_type": "display_data",
          "data": {
            "text/plain": [
              "<IPython.core.display.Math object>"
            ],
            "text/latex": "$\\displaystyle \\textbf{(2)} \\quad \\frac{377 \\cdot \\left(- CTL_{TL 1 2} \\cdot \\frac{d \\phi}{dt} \\cdot vTLLd_{TL 1 2} + iInLq_{TL 1 2} - iTLMq_{TL 1 2}\\right)}{CTL_{TL 1 2}}$"
          },
          "metadata": {}
        },
        {
          "output_type": "display_data",
          "data": {
            "text/plain": [
              "<IPython.core.display.Math object>"
            ],
            "text/latex": "$\\displaystyle \\textbf{(3)} \\quad \\frac{377 \\cdot \\left(LTL_{TL 1 2} \\cdot \\frac{d \\phi}{dt} \\cdot iTLMq_{TL 1 2} - RTL_{TL 1 2} \\cdot iTLMd_{TL 1 2} + vTLLd_{TL 1 2} - vTLRd_{TL 1 2}\\right)}{LTL_{TL 1 2}}$"
          },
          "metadata": {}
        },
        {
          "output_type": "display_data",
          "data": {
            "text/plain": [
              "<IPython.core.display.Math object>"
            ],
            "text/latex": "$\\displaystyle \\textbf{(4)} \\quad \\frac{377 \\cdot \\left(- LTL_{TL 1 2} \\cdot \\frac{d \\phi}{dt} \\cdot iTLMd_{TL 1 2} - RTL_{TL 1 2} \\cdot iTLMq_{TL 1 2} + vTLLq_{TL 1 2} - vTLRq_{TL 1 2}\\right)}{LTL_{TL 1 2}}$"
          },
          "metadata": {}
        },
        {
          "output_type": "display_data",
          "data": {
            "text/plain": [
              "<IPython.core.display.Math object>"
            ],
            "text/latex": "$\\displaystyle \\textbf{(5)} \\quad \\frac{377 \\cdot \\left(CTL_{TL 1 2} \\cdot \\frac{d \\phi}{dt} \\cdot vTLRq_{TL 1 2} + iInRd_{TL 1 2} + iTLMd_{TL 1 2}\\right)}{CTL_{TL 1 2}}$"
          },
          "metadata": {}
        },
        {
          "output_type": "display_data",
          "data": {
            "text/plain": [
              "<IPython.core.display.Math object>"
            ],
            "text/latex": "$\\displaystyle \\textbf{(6)} \\quad \\frac{377 \\cdot \\left(- CTL_{TL 1 2} \\cdot \\frac{d \\phi}{dt} \\cdot vTLRd_{TL 1 2} + iInRq_{TL 1 2} + iTLMq_{TL 1 2}\\right)}{CTL_{TL 1 2}}$"
          },
          "metadata": {}
        }
      ]
    },
    {
      "cell_type": "code",
      "source": [
        "display_equations(L.StateSpaceEquations)"
      ],
      "metadata": {
        "colab": {
          "base_uri": "https://localhost:8080/",
          "height": 120
        },
        "id": "l2Ab2ZzuavzO",
        "outputId": "01fc196d-b10f-4d73-832b-bf9248a919c9"
      },
      "execution_count": 10,
      "outputs": [
        {
          "output_type": "display_data",
          "data": {
            "text/plain": [
              "<IPython.core.display.Math object>"
            ],
            "text/latex": "$\\displaystyle \\textbf{(1)} \\quad \\frac{377 \\cdot \\left(LL_{L1} \\cdot \\frac{d \\phi}{dt} \\cdot iLq_{L1} - RL_{L1} \\cdot iLd_{L1} + vLd_{L1}\\right)}{LL_{L1}}$"
          },
          "metadata": {}
        },
        {
          "output_type": "display_data",
          "data": {
            "text/plain": [
              "<IPython.core.display.Math object>"
            ],
            "text/latex": "$\\displaystyle \\textbf{(2)} \\quad \\frac{377 \\cdot \\left(- LL_{L1} \\cdot \\frac{d \\phi}{dt} \\cdot iLd_{L1} - RL_{L1} \\cdot iLq_{L1} + vLq_{L1}\\right)}{LL_{L1}}$"
          },
          "metadata": {}
        }
      ]
    },
    {
      "cell_type": "markdown",
      "source": [
        "Now let's connect our components together via buses and initialize a PowerSystem object."
      ],
      "metadata": {
        "id": "iL7J_6nYW0Pg"
      }
    },
    {
      "cell_type": "code",
      "source": [
        "Bus1 = [[SM], [TL,'L']]\n",
        "Bus2 = [[L], [TL,'R']]\n",
        "Buses = [Bus1, Bus2]\n",
        "\n",
        "# Initialize power system\n",
        "PS = PowerSystem(\"Example_1\", Modules, Buses)"
      ],
      "metadata": {
        "colab": {
          "base_uri": "https://localhost:8080/"
        },
        "id": "iHm3y4ZxEtxb",
        "outputId": "283773c1-e56b-4d2b-934a-875b5ab840af"
      },
      "execution_count": 11,
      "outputs": [
        {
          "output_type": "stream",
          "name": "stderr",
          "text": [
            "INFO - Produced G-matrix:\n",
            "[[1. 0. 1. 0. 0. 0. 0. 0.]\n",
            " [0. 1. 0. 1. 0. 0. 0. 0.]\n",
            " [0. 0. 0. 0. 1. 0. 1. 0.]\n",
            " [0. 0. 0. 0. 0. 1. 0. 1.]]\n",
            "INFO - The KCL constraints between modules are:\n",
            "-------------------------\n",
            "1.0*iInLd_TL_1_2 - 1.0*(RS_G1*eqprime_G1*cos(delta_G1) - RS_G1*vSd_G1 + eqprime_G1*xdprime_G1*sin(delta_G1) - vSq_G1*xdprime_G1)/(RS_G1**2 + xdprime_G1**2) = 0\n",
            "1.0*iInLq_TL_1_2 - 1.0*(RS_G1*eqprime_G1*sin(delta_G1) - RS_G1*vSq_G1 - eqprime_G1*xdprime_G1*cos(delta_G1) + vSd_G1*xdprime_G1)/(RS_G1**2 + xdprime_G1**2) = 0\n",
            "1.0*iInRd_TL_1_2 + 1.0*iLd_L1 = 0\n",
            "1.0*iInRq_TL_1_2 + 1.0*iLq_L1 = 0\n",
            "-------------------------\n",
            "INFO - Produced state space for Example_1\n"
          ]
        }
      ]
    },
    {
      "cell_type": "markdown",
      "source": [
        "Congratulations, you've made your first power system! Let's take a look at its state space."
      ],
      "metadata": {
        "id": "tzBXIwT0XJYy"
      }
    },
    {
      "cell_type": "code",
      "source": [
        "display_equations(PS.StateSpaceEquations)"
      ],
      "metadata": {
        "colab": {
          "base_uri": "https://localhost:8080/",
          "height": 548
        },
        "id": "77SasCasFPQO",
        "outputId": "cc61e18e-ddfe-4b4b-ec90-ba3cc15fef22"
      },
      "execution_count": 12,
      "outputs": [
        {
          "output_type": "display_data",
          "data": {
            "text/plain": [
              "<IPython.core.display.Math object>"
            ],
            "text/latex": "$\\displaystyle \\textbf{(1)} \\quad - 377 \\cdot \\frac{d \\phi}{dt} + 377 \\cdot \\omega_{G1}$"
          },
          "metadata": {}
        },
        {
          "output_type": "display_data",
          "data": {
            "text/plain": [
              "<IPython.core.display.Math object>"
            ],
            "text/latex": "$\\displaystyle \\textbf{(2)} \\quad \\frac{377 \\cdot \\left({{eq}^{\\prime}}_{G1} \\cdot \\left(RS_{G1} \\cdot {{eq}^{\\prime}}_{G1} \\cdot \\cos{\\left(2 \\cdot \\delta_{G1} \\right)} - RS_{G1} \\cdot vTLLd_{TL 1 2} \\cdot \\cos{\\left(\\delta_{G1} \\right)} + RS_{G1} \\cdot vTLLq_{TL 1 2} \\cdot \\sin{\\left(\\delta_{G1} \\right)} + {{eq}^{\\prime}}_{G1} \\cdot {{xd}^{\\prime}}_{G1} \\cdot \\sin{\\left(2 \\cdot \\delta_{G1} \\right)} - vTLLd_{TL 1 2} \\cdot {{xd}^{\\prime}}_{G1} \\cdot \\sin{\\left(\\delta_{G1} \\right)} - vTLLq_{TL 1 2} \\cdot {{xd}^{\\prime}}_{G1} \\cdot \\cos{\\left(\\delta_{G1} \\right)}\\right) + \\left(RS_{G1}^{2} + {{xd}^{\\prime}}_{G1}^{2}\\right) \\cdot \\left(D_{G1} \\cdot \\left(\\frac{d \\phi}{dt} - \\omega_{G1}\\right) + Pm_{G1}\\right)\\right)}{J_{G1} \\cdot \\left(RS_{G1}^{2} + {{xd}^{\\prime}}_{G1}^{2}\\right)}$"
          },
          "metadata": {}
        },
        {
          "output_type": "display_data",
          "data": {
            "text/plain": [
              "<IPython.core.display.Math object>"
            ],
            "text/latex": "$\\displaystyle \\textbf{(3)} \\quad \\frac{377 \\cdot \\left(CTL_{TL 1 2} \\cdot \\frac{d \\phi}{dt} \\cdot vTLLq_{TL 1 2} + \\frac{RS_{G1} \\cdot {{eq}^{\\prime}}_{G1} \\cdot \\cos{\\left(\\delta_{G1} \\right)}}{RS_{G1}^{2} + {{xd}^{\\prime}}_{G1}^{2}} - \\frac{RS_{G1} \\cdot vTLLd_{TL 1 2}}{RS_{G1}^{2} + {{xd}^{\\prime}}_{G1}^{2}} + \\frac{{{eq}^{\\prime}}_{G1} \\cdot {{xd}^{\\prime}}_{G1} \\cdot \\sin{\\left(\\delta_{G1} \\right)}}{RS_{G1}^{2} + {{xd}^{\\prime}}_{G1}^{2}} - iTLMd_{TL 1 2} - \\frac{vTLLq_{TL 1 2} \\cdot {{xd}^{\\prime}}_{G1}}{RS_{G1}^{2} + {{xd}^{\\prime}}_{G1}^{2}}\\right)}{CTL_{TL 1 2}}$"
          },
          "metadata": {}
        },
        {
          "output_type": "display_data",
          "data": {
            "text/plain": [
              "<IPython.core.display.Math object>"
            ],
            "text/latex": "$\\displaystyle \\textbf{(4)} \\quad \\frac{377 \\cdot \\left(- CTL_{TL 1 2} \\cdot \\frac{d \\phi}{dt} \\cdot vTLLd_{TL 1 2} + \\frac{RS_{G1} \\cdot {{eq}^{\\prime}}_{G1} \\cdot \\sin{\\left(\\delta_{G1} \\right)}}{RS_{G1}^{2} + {{xd}^{\\prime}}_{G1}^{2}} - \\frac{RS_{G1} \\cdot vTLLq_{TL 1 2}}{RS_{G1}^{2} + {{xd}^{\\prime}}_{G1}^{2}} - \\frac{{{eq}^{\\prime}}_{G1} \\cdot {{xd}^{\\prime}}_{G1} \\cdot \\cos{\\left(\\delta_{G1} \\right)}}{RS_{G1}^{2} + {{xd}^{\\prime}}_{G1}^{2}} - iTLMq_{TL 1 2} + \\frac{vTLLd_{TL 1 2} \\cdot {{xd}^{\\prime}}_{G1}}{RS_{G1}^{2} + {{xd}^{\\prime}}_{G1}^{2}}\\right)}{CTL_{TL 1 2}}$"
          },
          "metadata": {}
        },
        {
          "output_type": "display_data",
          "data": {
            "text/plain": [
              "<IPython.core.display.Math object>"
            ],
            "text/latex": "$\\displaystyle \\textbf{(5)} \\quad \\frac{377 \\cdot \\left(LTL_{TL 1 2} \\cdot \\frac{d \\phi}{dt} \\cdot iTLMq_{TL 1 2} - RTL_{TL 1 2} \\cdot iTLMd_{TL 1 2} + vTLLd_{TL 1 2} - vTLRd_{TL 1 2}\\right)}{LTL_{TL 1 2}}$"
          },
          "metadata": {}
        },
        {
          "output_type": "display_data",
          "data": {
            "text/plain": [
              "<IPython.core.display.Math object>"
            ],
            "text/latex": "$\\displaystyle \\textbf{(6)} \\quad \\frac{377 \\cdot \\left(- LTL_{TL 1 2} \\cdot \\frac{d \\phi}{dt} \\cdot iTLMd_{TL 1 2} - RTL_{TL 1 2} \\cdot iTLMq_{TL 1 2} + vTLLq_{TL 1 2} - vTLRq_{TL 1 2}\\right)}{LTL_{TL 1 2}}$"
          },
          "metadata": {}
        },
        {
          "output_type": "display_data",
          "data": {
            "text/plain": [
              "<IPython.core.display.Math object>"
            ],
            "text/latex": "$\\displaystyle \\textbf{(7)} \\quad \\frac{377 \\cdot \\left(CTL_{TL 1 2} \\cdot \\frac{d \\phi}{dt} \\cdot vTLRq_{TL 1 2} - iLd_{L1} + iTLMd_{TL 1 2}\\right)}{CTL_{TL 1 2}}$"
          },
          "metadata": {}
        },
        {
          "output_type": "display_data",
          "data": {
            "text/plain": [
              "<IPython.core.display.Math object>"
            ],
            "text/latex": "$\\displaystyle \\textbf{(8)} \\quad \\frac{377 \\cdot \\left(- CTL_{TL 1 2} \\cdot \\frac{d \\phi}{dt} \\cdot vTLRd_{TL 1 2} - iLq_{L1} + iTLMq_{TL 1 2}\\right)}{CTL_{TL 1 2}}$"
          },
          "metadata": {}
        },
        {
          "output_type": "display_data",
          "data": {
            "text/plain": [
              "<IPython.core.display.Math object>"
            ],
            "text/latex": "$\\displaystyle \\textbf{(9)} \\quad \\frac{377 \\cdot \\left(LL_{L1} \\cdot \\frac{d \\phi}{dt} \\cdot iLq_{L1} - RL_{L1} \\cdot iLd_{L1} + vTLRd_{TL 1 2}\\right)}{LL_{L1}}$"
          },
          "metadata": {}
        },
        {
          "output_type": "display_data",
          "data": {
            "text/plain": [
              "<IPython.core.display.Math object>"
            ],
            "text/latex": "$\\displaystyle \\textbf{(10)} \\quad \\frac{377 \\cdot \\left(- LL_{L1} \\cdot \\frac{d \\phi}{dt} \\cdot iLd_{L1} - RL_{L1} \\cdot iLq_{L1} + vTLRq_{TL 1 2}\\right)}{LL_{L1}}$"
          },
          "metadata": {}
        }
      ]
    },
    {
      "cell_type": "markdown",
      "source": [
        "### Examining the dynamics"
      ],
      "metadata": {
        "id": "f1vxa9CiXyFY"
      }
    },
    {
      "cell_type": "markdown",
      "source": [
        "Alright, we've set up our power system and verified the state space equations, so let's start solving for equilibrium! Let's instantiate a Dynamics object and find out which component parameters we need to plug in."
      ],
      "metadata": {
        "id": "tllzbOKdHPVr"
      }
    },
    {
      "cell_type": "code",
      "source": [
        "simulator = Dynamics(PS)\n",
        "simulator.get_required_parameters()"
      ],
      "metadata": {
        "colab": {
          "base_uri": "https://localhost:8080/"
        },
        "id": "ByWWWOzDmm9G",
        "outputId": "a50d1bba-3ae6-462f-e268-75c69c4b677e"
      },
      "execution_count": 13,
      "outputs": [
        {
          "output_type": "execute_result",
          "data": {
            "text/plain": [
              "{'G1': [J_G1, D_G1, xdprime_G1, RS_G1, eqprime_G1, Pm_G1],\n",
              " 'TL_1_2': [RTL_TL_1_2, CTL_TL_1_2, LTL_TL_1_2],\n",
              " 'L1': [RL_L1, LL_L1]}"
            ]
          },
          "metadata": {},
          "execution_count": 13
        }
      ]
    },
    {
      "cell_type": "markdown",
      "source": [
        "For this example, we've provided you with the required parameters for our components."
      ],
      "metadata": {
        "id": "hbIRDg62ZTDY"
      }
    },
    {
      "cell_type": "code",
      "source": [
        "params_dictionary = {'J_G1': 76531.33492530156,\n",
        "                     'D_G1': 1,\n",
        "                     'xdprime_G1': 0.005,\n",
        "                     'RS_G1': 0.0001,\n",
        "                     'eqprime_G1': -1.35,\n",
        "                     'Pm_G1': 1.4786690000000817,\n",
        "                     'RTL_TL_1_2': 0.02978336677167938,\n",
        "                     'CTL_TL_1_2': 0.001,\n",
        "                     'LTL_TL_1_2': 0.40681749584779936,\n",
        "                     'RL_L1': 2.3125,\n",
        "                     'LL_L1': 0.9588}"
      ],
      "metadata": {
        "id": "jXfjJUAH5K0W"
      },
      "execution_count": 14,
      "outputs": []
    },
    {
      "cell_type": "code",
      "source": [
        "simulator.load_new_params(params_dictionary=params_dictionary)\n",
        "xf = simulator.solve_equilibrium(method='hybr')"
      ],
      "metadata": {
        "colab": {
          "base_uri": "https://localhost:8080/"
        },
        "id": "sVH8ExylHjNv",
        "outputId": "4f7e1b34-3e6d-46d2-b6aa-9c71b837392a"
      },
      "execution_count": 15,
      "outputs": [
        {
          "output_type": "stream",
          "name": "stderr",
          "text": [
            "INFO - Solving for equilibrium values of Example_1\n",
            "INFO - Equilibrium values:\n",
            "-------------------------\n",
            "delta_G1: 1.7240938868791578\n",
            "omega_G1: 0.9999999763315144\n",
            "vTLLd_TL_1_2: 0.20384754416483242\n",
            "vTLLq_TL_1_2: -1.333223658211601\n",
            "iTLMd_TL_1_2: -0.181576837552206\n",
            "iTLMq_TL_1_2: -0.46280328107422397\n",
            "vTLRd_TL_1_2: 0.020979052457981817\n",
            "vTLRq_TL_1_2: -1.2455712151093845\n",
            "iLd_L1: -0.1828224021007726\n",
            "iLq_L1: -0.4628242287792925\n",
            "-------------------------\n",
            "INFO - Saved equilibrium values to results/equilibrium/Example_1_Solved.mat\n"
          ]
        }
      ]
    },
    {
      "cell_type": "markdown",
      "source": [
        "Great! You should see a set of equilibrium values for the state variables of the power system. Let's now analyze the stability of our system using linearized analysis."
      ],
      "metadata": {
        "id": "Fi_NA2qTYY45"
      }
    },
    {
      "cell_type": "code",
      "source": [
        "simulator.linearized_analysis(xf=xf)"
      ],
      "metadata": {
        "colab": {
          "base_uri": "https://localhost:8080/"
        },
        "id": "5p_HNfOIQn-c",
        "outputId": "cdeb613c-2e1a-4f2b-f79a-c93ccc3819ba"
      },
      "execution_count": 16,
      "outputs": [
        {
          "output_type": "stream",
          "name": "stderr",
          "text": [
            "INFO - Performing linearized analysis of Example_1\n",
            "INFO - No unstable eigenvalues\n"
          ]
        },
        {
          "output_type": "execute_result",
          "data": {
            "text/plain": [
              "(None, None)"
            ]
          },
          "metadata": {},
          "execution_count": 16
        }
      ]
    },
    {
      "cell_type": "markdown",
      "source": [
        "Now we can simulate the trajectory of the power system over a set time period and see how the state changes over time."
      ],
      "metadata": {
        "id": "uwWdP4CsYzj3"
      }
    },
    {
      "cell_type": "code",
      "source": [
        "time, states = simulator.simulate_trajectory(xf=xf, simulation_time=0.3, method='LSODA')\n",
        "plot_trajectory(time, states)"
      ],
      "metadata": {
        "colab": {
          "base_uri": "https://localhost:8080/",
          "height": 669
        },
        "id": "9voIH5wHQ20r",
        "outputId": "a84325d4-023f-44e9-e19c-a7960b8261eb"
      },
      "execution_count": 17,
      "outputs": [
        {
          "output_type": "stream",
          "name": "stderr",
          "text": [
            "INFO - Simulating trajectory of Example_1\n",
            "INFO - Ending simulation at t = 0.3\n",
            "INFO - Saved trajectory values to results/trajectory/Example_1_Simulation.mat\n"
          ]
        },
        {
          "output_type": "display_data",
          "data": {
            "text/html": [
              "<html>\n",
              "<head><meta charset=\"utf-8\" /></head>\n",
              "<body>\n",
              "    <div>            <script src=\"https://cdnjs.cloudflare.com/ajax/libs/mathjax/2.7.5/MathJax.js?config=TeX-AMS-MML_SVG\"></script><script type=\"text/javascript\">if (window.MathJax && window.MathJax.Hub && window.MathJax.Hub.Config) {window.MathJax.Hub.Config({SVG: {font: \"STIX-Web\"}});}</script>                <script type=\"text/javascript\">window.PlotlyConfig = {MathJaxConfig: 'local'};</script>\n",
              "        <script charset=\"utf-8\" src=\"https://cdn.plot.ly/plotly-2.24.1.min.js\"></script>                <div id=\"f019486e-b54f-4c55-818d-862fad799b02\" class=\"plotly-graph-div\" style=\"height:600px; width:1000px;\"></div>            <script type=\"text/javascript\">                                    window.PLOTLYENV=window.PLOTLYENV || {};                                    if (document.getElementById(\"f019486e-b54f-4c55-818d-862fad799b02\")) {                    Plotly.newPlot(                        \"f019486e-b54f-4c55-818d-862fad799b02\",                        [{\"name\":\"delta_G1\",\"visible\":true,\"x\":[0.0,3.127824889046324e-08,3.260400056903797e-08,3.39297522476127e-08,3.545436667797364e-08,3.697898110833458e-08,3.850359553869552e-08,3.9675011419966886e-08,4.084642730123825e-08,4.201784318250961e-08,4.497768134831021e-08,4.7937519514110814e-08,5.0897357679911415e-08,5.673400030296433e-08,6.257064292601724e-08,6.840728554907017e-08,8.361902131734095e-08,9.883075708561172e-08,1.140424928538825e-07,1.1521065826906367e-07,1.1637882368424484e-07,1.1754698909942601e-07,1.292286432512377e-07,1.4091029740304938e-07,1.5259195155486106e-07,2.2306285538379515e-07,2.9353375921272924e-07,7.16617625421701e-07,1.1397014916306729e-06,5.3705401537203904e-06,9.601378815810109e-06,5.1909765436707284e-05,9.421815205760446e-05,0.0005173020182665763,0.0009403858844755481,0.005171224546565266,0.009402063208654984,0.023718017622047248,0.03803397203543951,0.052349926448831775,0.16179558004058284,0.2712412336323339,0.3],\"y\":[1.7240938868791578,1.7240938868788802,1.7240938868788684,1.7240938868788567,1.7240938868788431,1.7240938868788296,1.724093886878816,1.7240938868788056,1.7240938868787952,1.7240938868787847,1.7240938868787585,1.7240938868787323,1.7240938868787061,1.7240938868786546,1.724093886878603,1.7240938868785516,1.7240938868784177,1.724093886878284,1.7240938868781508,1.7240938868781406,1.7240938868781304,1.7240938868781202,1.7240938868780182,1.7240938868779163,1.7240938868778146,1.7240938868772098,1.7240938868766125,1.7240938868733013,1.7240938868702642,1.7240938868672973,1.724093886891733,1.7240938898763785,1.7240938956013112,1.7240942268788733,1.7240948321841585,1.7241282872392563,1.724189143267651,1.7245519059822547,1.725228317180021,1.7262182845151088,1.7441001544603656,1.7802686858759684,1.792798299461941],\"type\":\"scatter\"},{\"name\":\"omega_G1\",\"visible\":true,\"x\":[0.0,3.127824889046324e-08,3.260400056903797e-08,3.39297522476127e-08,3.545436667797364e-08,3.697898110833458e-08,3.850359553869552e-08,3.9675011419966886e-08,4.084642730123825e-08,4.201784318250961e-08,4.497768134831021e-08,4.7937519514110814e-08,5.0897357679911415e-08,5.673400030296433e-08,6.257064292601724e-08,6.840728554907017e-08,8.361902131734095e-08,9.883075708561172e-08,1.140424928538825e-07,1.1521065826906367e-07,1.1637882368424484e-07,1.1754698909942601e-07,1.292286432512377e-07,1.4091029740304938e-07,1.5259195155486106e-07,2.2306285538379515e-07,2.9353375921272924e-07,7.16617625421701e-07,1.1397014916306729e-06,5.3705401537203904e-06,9.601378815810109e-06,5.1909765436707284e-05,9.421815205760446e-05,0.0005173020182665763,0.0009403858844755481,0.005171224546565266,0.009402063208654984,0.023718017622047248,0.03803397203543951,0.052349926448831775,0.16179558004058284,0.2712412336323339,0.3],\"y\":[0.9999999763315144,0.9999999764585863,0.9999999764639141,0.9999999764692438,0.9999999764753738,0.9999999764815062,0.9999999764876416,0.9999999764923583,0.9999999764970774,0.9999999765017994,0.9999999765137452,0.9999999765257139,0.9999999765377079,0.9999999765614349,0.9999999765852533,0.9999999766091394,0.9999999766713432,0.9999999767332617,0.9999999767949265,0.9999999767996522,0.999999976804374,0.9999999768090941,0.9999999768562777,0.9999999769035077,0.9999999769508844,0.999999977237344,0.9999999775235254,0.9999999792415366,0.9999999809595572,0.9999999981397645,1.0000000153199717,1.0000001871220272,1.0000003589240565,1.000002076941225,1.0000037949551837,1.000020974611959,1.0000381536236367,1.000096276699165,1.000154385346261,1.0002124737833642,1.000654877452233,1.0010981762348632,1.001213500185113],\"type\":\"scatter\"},{\"name\":\"vTLLd_TL_1_2\",\"visible\":true,\"x\":[0.0,3.127824889046324e-08,3.260400056903797e-08,3.39297522476127e-08,3.545436667797364e-08,3.697898110833458e-08,3.850359553869552e-08,3.9675011419966886e-08,4.084642730123825e-08,4.201784318250961e-08,4.497768134831021e-08,4.7937519514110814e-08,5.0897357679911415e-08,5.673400030296433e-08,6.257064292601724e-08,6.840728554907017e-08,8.361902131734095e-08,9.883075708561172e-08,1.140424928538825e-07,1.1521065826906367e-07,1.1637882368424484e-07,1.1754698909942601e-07,1.292286432512377e-07,1.4091029740304938e-07,1.5259195155486106e-07,2.2306285538379515e-07,2.9353375921272924e-07,7.16617625421701e-07,1.1397014916306729e-06,5.3705401537203904e-06,9.601378815810109e-06,5.1909765436707284e-05,9.421815205760446e-05,0.0005173020182665763,0.0009403858844755481,0.005171224546565266,0.009402063208654984,0.023718017622047248,0.03803397203543951,0.052349926448831775,0.16179558004058284,0.2712412336323339,0.3],\"y\":[0.20384754416483242,0.20381602081035083,0.2038158472304551,0.20381597774169266,0.20381632977774233,0.2038170828892254,0.20381822707999922,0.20381936212591534,0.20382070883224368,0.2038222559840511,0.20382694937635212,0.20383258714939376,0.20383888551255125,0.20385182025967216,0.2038636231561267,0.20387220659397967,0.20387205177186096,0.20385535222701998,0.20383774427251813,0.2038363033517007,0.20383493437524286,0.20383366428503974,0.203827776883274,0.20383306596644094,0.20384501583667466,0.20385016452210528,0.20384741980378948,0.20384710395769548,0.2038471191073342,0.2038471195035635,0.20384711958928023,0.20384712394243423,0.20384713175542576,0.20384757469373854,0.2038483831532173,0.20389300206228225,0.20397415302296523,0.20445783264176717,0.20535958637616483,0.2066791588684118,0.23047796911442348,0.27838074858122647,0.29489346256597254],\"type\":\"scatter\"},{\"name\":\"vTLLq_TL_1_2\",\"visible\":true,\"x\":[0.0,3.127824889046324e-08,3.260400056903797e-08,3.39297522476127e-08,3.545436667797364e-08,3.697898110833458e-08,3.850359553869552e-08,3.9675011419966886e-08,4.084642730123825e-08,4.201784318250961e-08,4.497768134831021e-08,4.7937519514110814e-08,5.0897357679911415e-08,5.673400030296433e-08,6.257064292601724e-08,6.840728554907017e-08,8.361902131734095e-08,9.883075708561172e-08,1.140424928538825e-07,1.1521065826906367e-07,1.1637882368424484e-07,1.1754698909942601e-07,1.292286432512377e-07,1.4091029740304938e-07,1.5259195155486106e-07,2.2306285538379515e-07,2.9353375921272924e-07,7.16617625421701e-07,1.1397014916306729e-06,5.3705401537203904e-06,9.601378815810109e-06,5.1909765436707284e-05,9.421815205760446e-05,0.0005173020182665763,0.0009403858844755481,0.005171224546565266,0.009402063208654984,0.023718017622047248,0.03803397203543951,0.052349926448831775,0.16179558004058284,0.2712412336323339,0.3],\"y\":[-1.333223658211601,-1.3332153436354202,-1.3332185089648563,-1.3332216190090476,-1.3332251715048307,-1.3332286525572306,-1.333232016619952,-1.3332344956127509,-1.333236860811443,-1.3332390942068748,-1.3332440242107757,-1.3332477811564807,-1.3332501931232514,-1.333250695714522,-1.333245782976395,-1.3332364883098473,-1.3332116037179083,-1.333200528367601,-1.3332038666125985,-1.3332046660742423,-1.3332057064795888,-1.333206860822901,-1.3332204146039817,-1.3332330396329477,-1.3332382794686923,-1.3332219965615009,-1.3332204555296105,-1.3332209560715635,-1.3332209667545978,-1.3332209662812697,-1.3332209662686343,-1.3332209656296168,-1.333220964448716,-1.33322089642481,-1.3332207723236897,-1.3332139401008152,-1.3332015196179487,-1.3331273919164754,-1.3329887460670315,-1.3327847502999095,-1.3288757254913341,-1.319672461192136,-1.31608044469394],\"type\":\"scatter\"},{\"name\":\"iTLMd_TL_1_2\",\"visible\":true,\"x\":[0.0,3.127824889046324e-08,3.260400056903797e-08,3.39297522476127e-08,3.545436667797364e-08,3.697898110833458e-08,3.850359553869552e-08,3.9675011419966886e-08,4.084642730123825e-08,4.201784318250961e-08,4.497768134831021e-08,4.7937519514110814e-08,5.0897357679911415e-08,5.673400030296433e-08,6.257064292601724e-08,6.840728554907017e-08,8.361902131734095e-08,9.883075708561172e-08,1.140424928538825e-07,1.1521065826906367e-07,1.1637882368424484e-07,1.1754698909942601e-07,1.292286432512377e-07,1.4091029740304938e-07,1.5259195155486106e-07,2.2306285538379515e-07,2.9353375921272924e-07,7.16617625421701e-07,1.1397014916306729e-06,5.3705401537203904e-06,9.601378815810109e-06,5.1909765436707284e-05,9.421815205760446e-05,0.0005173020182665763,0.0009403858844755481,0.005171224546565266,0.009402063208654984,0.023718017622047248,0.03803397203543951,0.052349926448831775,0.16179558004058284,0.2712412336323339,0.3],\"y\":[-0.181576837552206,-0.18157683745488215,-0.18157683749427775,-0.1815768375330686,-0.18157683757743207,-0.18157683762101604,-0.18157683766325824,-0.1815768376944778,-0.1815768377243508,-0.18157683775265313,-0.18157683781559278,-0.18157683786434703,-0.18157683789673312,-0.18157683790844328,-0.1815768378533179,-0.18157683774354486,-0.18157683744379516,-0.18157683730970073,-0.18157683735253288,-0.18157683736247532,-0.18157683737539676,-0.18157683738974287,-0.18157683755958673,-0.18157683772076255,-0.18157683779280728,-0.1815768376223254,-0.18157683763107213,-0.18157683780681314,-0.18157683797599758,-0.1815768395944563,-0.18157684113149888,-0.1815768475834725,-0.18157684864892437,-0.18157680144738786,-0.1815766715741235,-0.18156361802845036,-0.18153806664955863,-0.1813790752826205,-0.18107490481214428,-0.18062542361029718,-0.17238364755616936,-0.15548353268695075,-0.1495787518570963],\"type\":\"scatter\"},{\"name\":\"iTLMq_TL_1_2\",\"visible\":true,\"x\":[0.0,3.127824889046324e-08,3.260400056903797e-08,3.39297522476127e-08,3.545436667797364e-08,3.697898110833458e-08,3.850359553869552e-08,3.9675011419966886e-08,4.084642730123825e-08,4.201784318250961e-08,4.497768134831021e-08,4.7937519514110814e-08,5.0897357679911415e-08,5.673400030296433e-08,6.257064292601724e-08,6.840728554907017e-08,8.361902131734095e-08,9.883075708561172e-08,1.140424928538825e-07,1.1521065826906367e-07,1.1637882368424484e-07,1.1754698909942601e-07,1.292286432512377e-07,1.4091029740304938e-07,1.5259195155486106e-07,2.2306285538379515e-07,2.9353375921272924e-07,7.16617625421701e-07,1.1397014916306729e-06,5.3705401537203904e-06,9.601378815810109e-06,5.1909765436707284e-05,9.421815205760446e-05,0.0005173020182665763,0.0009403858844755481,0.005171224546565266,0.009402063208654984,0.023718017622047248,0.03803397203543951,0.052349926448831775,0.16179558004058284,0.2712412336323339,0.3],\"y\":[-0.46280328107422397,-0.46280328060988946,-0.4628032806036321,-0.4628032806011257,-0.46280328060073134,-0.4628032806052839,-0.4628032806146718,-0.46280328062505627,-0.46280328063807014,-0.4628032806535799,-0.46280328070258187,-0.46280328076347904,-0.46280328083282574,-0.4628032809769451,-0.4628032811084842,-0.46280328120153114,-0.46280328116734637,-0.46280328092642137,-0.462803280670786,-0.46280328064993054,-0.46280328062990006,-0.46280328061105697,-0.4628032805058722,-0.4628032805382792,-0.46280328065436455,-0.46280328054364583,-0.4628032803322359,-0.4628032792573896,-0.46280327818494005,-0.4628032673484992,-0.4628032564713872,-0.462803182405724,-0.46280314747112833,-0.4628029556295844,-0.4628027780860894,-0.4628056943804918,-0.4628134357454827,-0.46286791508035563,-0.4629790279411943,-0.46314663967991454,-0.4662158238047034,-0.472059998172655,-0.47395217386813837],\"type\":\"scatter\"},{\"name\":\"vTLRd_TL_1_2\",\"visible\":true,\"x\":[0.0,3.127824889046324e-08,3.260400056903797e-08,3.39297522476127e-08,3.545436667797364e-08,3.697898110833458e-08,3.850359553869552e-08,3.9675011419966886e-08,4.084642730123825e-08,4.201784318250961e-08,4.497768134831021e-08,4.7937519514110814e-08,5.0897357679911415e-08,5.673400030296433e-08,6.257064292601724e-08,6.840728554907017e-08,8.361902131734095e-08,9.883075708561172e-08,1.140424928538825e-07,1.1521065826906367e-07,1.1637882368424484e-07,1.1754698909942601e-07,1.292286432512377e-07,1.4091029740304938e-07,1.5259195155486106e-07,2.2306285538379515e-07,2.9353375921272924e-07,7.16617625421701e-07,1.1397014916306729e-06,5.3705401537203904e-06,9.601378815810109e-06,5.1909765436707284e-05,9.421815205760446e-05,0.0005173020182665763,0.0009403858844755481,0.005171224546565266,0.009402063208654984,0.023718017622047248,0.03803397203543951,0.052349926448831775,0.16179558004058284,0.2712412336323339,0.3],\"y\":[0.020979052457981817,0.020979052381526784,0.020979052378223142,0.02097905237490041,0.020979052371066627,0.020979052367207672,0.020979052363324046,0.020979052360323894,0.02097905235731025,0.020979052354283753,0.020979052346585786,0.020979052338825566,0.02097905233102011,0.020979052315582128,0.020979052300195103,0.020979052284989808,0.02097905224671839,0.020979052209461495,0.020979052172260107,0.020979052169408586,0.020979052166553026,0.020979052163691458,0.02097905213465062,0.02097905210489989,0.02097905207470079,0.020979051895686572,0.02097905171642868,0.020979050611842527,0.020979049479978654,0.020979035615608026,0.020979019406600914,0.020978826614611527,0.020978711286053074,0.02097908329896035,0.020979749260796602,0.021019794881944793,0.021093847893671747,0.021539731630973228,0.02237623891982176,0.023603278935184376,0.0458242339234478,0.0907599928457066,0.10630309278868905],\"type\":\"scatter\"},{\"name\":\"vTLRq_TL_1_2\",\"visible\":true,\"x\":[0.0,3.127824889046324e-08,3.260400056903797e-08,3.39297522476127e-08,3.545436667797364e-08,3.697898110833458e-08,3.850359553869552e-08,3.9675011419966886e-08,4.084642730123825e-08,4.201784318250961e-08,4.497768134831021e-08,4.7937519514110814e-08,5.0897357679911415e-08,5.673400030296433e-08,6.257064292601724e-08,6.840728554907017e-08,8.361902131734095e-08,9.883075708561172e-08,1.140424928538825e-07,1.1521065826906367e-07,1.1637882368424484e-07,1.1754698909942601e-07,1.292286432512377e-07,1.4091029740304938e-07,1.5259195155486106e-07,2.2306285538379515e-07,2.9353375921272924e-07,7.16617625421701e-07,1.1397014916306729e-06,5.3705401537203904e-06,9.601378815810109e-06,5.1909765436707284e-05,9.421815205760446e-05,0.0005173020182665763,0.0009403858844755481,0.005171224546565266,0.009402063208654984,0.023718017622047248,0.03803397203543951,0.052349926448831775,0.16179558004058284,0.2712412336323339,0.3],\"y\":[-1.2455712151093845,-1.2455712154786227,-1.2455712154940524,-1.2455712155094831,-1.2455712155272285,-1.2455712155449747,-1.245571215562725,-1.2455712155763676,-1.2455712155900154,-1.2455712156036693,-1.2455712156382053,-1.2455712156728025,-1.2455712157074723,-1.2455712157760745,-1.2455712158449794,-1.2455712159141286,-1.2455712160942904,-1.2455712162734218,-1.2455712164514472,-1.245571216465076,-1.2455712164786887,-1.2455712164922927,-1.2455712166281205,-1.2455712167638464,-1.2455712168998783,-1.2455712177184306,-1.2455712185313097,-1.2455712232379585,-1.245571227771259,-1.2455712555143954,-1.2455712655737456,-1.2455703793399917,-1.2455693807133594,-1.2455689358845505,-1.2455688334382724,-1.2455660281256737,-1.2455625411733537,-1.2455472322961354,-1.2455247227683293,-1.2454943381436936,-1.2448154155840536,-1.2422882022748198,-1.2410406555429494],\"type\":\"scatter\"},{\"name\":\"iLd_L1\",\"visible\":true,\"x\":[0.0,3.127824889046324e-08,3.260400056903797e-08,3.39297522476127e-08,3.545436667797364e-08,3.697898110833458e-08,3.850359553869552e-08,3.9675011419966886e-08,4.084642730123825e-08,4.201784318250961e-08,4.497768134831021e-08,4.7937519514110814e-08,5.0897357679911415e-08,5.673400030296433e-08,6.257064292601724e-08,6.840728554907017e-08,8.361902131734095e-08,9.883075708561172e-08,1.140424928538825e-07,1.1521065826906367e-07,1.1637882368424484e-07,1.1754698909942601e-07,1.292286432512377e-07,1.4091029740304938e-07,1.5259195155486106e-07,2.2306285538379515e-07,2.9353375921272924e-07,7.16617625421701e-07,1.1397014916306729e-06,5.3705401537203904e-06,9.601378815810109e-06,5.1909765436707284e-05,9.421815205760446e-05,0.0005173020182665763,0.0009403858844755481,0.005171224546565266,0.009402063208654984,0.023718017622047248,0.03803397203543951,0.052349926448831775,0.16179558004058284,0.2712412336323339,0.3],\"y\":[-0.1828224021007726,-0.1828224021009364,-0.18282240210094333,-0.18282240210095027,-0.18282240210095826,-0.18282240210096626,-0.18282240210097425,-0.18282240210098039,-0.18282240210098652,-0.18282240210099265,-0.1828224021010082,-0.18282240210102374,-0.18282240210103928,-0.18282240210106998,-0.1828224021011007,-0.18282240210113146,-0.18282240210121178,-0.18282240210129233,-0.1828224021013731,-0.18282240210137932,-0.18282240210138553,-0.18282240210139175,-0.18282240210145398,-0.18282240210151635,-0.18282240210157885,-0.18282240210196132,-0.1828224021023488,-0.18282240210485973,-0.18282240210756007,-0.18282240215771794,-0.18282240223485247,-0.1828224058757388,-0.18282241079912576,-0.18282237271560367,-0.1828222445828029,-0.1828092091631365,-0.18278367561824652,-0.1826247412599486,-0.18232062071465546,-0.18187118147931294,-0.17362927732279632,-0.15672718520792703,-0.15082129690781182],\"type\":\"scatter\"},{\"name\":\"iLq_L1\",\"visible\":true,\"x\":[0.0,3.127824889046324e-08,3.260400056903797e-08,3.39297522476127e-08,3.545436667797364e-08,3.697898110833458e-08,3.850359553869552e-08,3.9675011419966886e-08,4.084642730123825e-08,4.201784318250961e-08,4.497768134831021e-08,4.7937519514110814e-08,5.0897357679911415e-08,5.673400030296433e-08,6.257064292601724e-08,6.840728554907017e-08,8.361902131734095e-08,9.883075708561172e-08,1.140424928538825e-07,1.1521065826906367e-07,1.1637882368424484e-07,1.1754698909942601e-07,1.292286432512377e-07,1.4091029740304938e-07,1.5259195155486106e-07,2.2306285538379515e-07,2.9353375921272924e-07,7.16617625421701e-07,1.1397014916306729e-06,5.3705401537203904e-06,9.601378815810109e-06,5.1909765436707284e-05,9.421815205760446e-05,0.0005173020182665763,0.0009403858844755481,0.005171224546565266,0.009402063208654984,0.023718017622047248,0.03803397203543951,0.052349926448831775,0.16179558004058284,0.2712412336323339,0.3],\"y\":[-0.4628242287792925,-0.4628242287801201,-0.46282422878015517,-0.46282422878019025,-0.4628242287802306,-0.46282422878027096,-0.4628242287803113,-0.46282422878034235,-0.4628242287803734,-0.4628242287804044,-0.4628242287804829,-0.4628242287805614,-0.46282422878063995,-0.462824228780795,-0.4628242287809502,-0.4628242287811055,-0.46282422878151114,-0.4628242287819178,-0.46282422878232554,-0.4628242287823569,-0.46282422878238827,-0.46282422878241963,-0.46282422878273366,-0.4628242287830483,-0.46282422878336354,-0.4628242287852898,-0.4628242287872384,-0.4628242287997152,-0.4628242288129406,-0.4628242289905842,-0.46282422918409466,-0.4628242167946716,-0.4628241887912072,-0.46282393750173256,-0.4628237584776361,-0.46282671593416147,-0.46283453177956424,-0.46288945833516204,-0.4630014090178528,-0.4631702493182062,-0.466261672329222,-0.4721508418104446,-0.47405861067735555],\"type\":\"scatter\"}],                        {\"template\":{\"data\":{\"histogram2dcontour\":[{\"type\":\"histogram2dcontour\",\"colorbar\":{\"outlinewidth\":0,\"ticks\":\"\"},\"colorscale\":[[0.0,\"#0d0887\"],[0.1111111111111111,\"#46039f\"],[0.2222222222222222,\"#7201a8\"],[0.3333333333333333,\"#9c179e\"],[0.4444444444444444,\"#bd3786\"],[0.5555555555555556,\"#d8576b\"],[0.6666666666666666,\"#ed7953\"],[0.7777777777777778,\"#fb9f3a\"],[0.8888888888888888,\"#fdca26\"],[1.0,\"#f0f921\"]]}],\"choropleth\":[{\"type\":\"choropleth\",\"colorbar\":{\"outlinewidth\":0,\"ticks\":\"\"}}],\"histogram2d\":[{\"type\":\"histogram2d\",\"colorbar\":{\"outlinewidth\":0,\"ticks\":\"\"},\"colorscale\":[[0.0,\"#0d0887\"],[0.1111111111111111,\"#46039f\"],[0.2222222222222222,\"#7201a8\"],[0.3333333333333333,\"#9c179e\"],[0.4444444444444444,\"#bd3786\"],[0.5555555555555556,\"#d8576b\"],[0.6666666666666666,\"#ed7953\"],[0.7777777777777778,\"#fb9f3a\"],[0.8888888888888888,\"#fdca26\"],[1.0,\"#f0f921\"]]}],\"heatmap\":[{\"type\":\"heatmap\",\"colorbar\":{\"outlinewidth\":0,\"ticks\":\"\"},\"colorscale\":[[0.0,\"#0d0887\"],[0.1111111111111111,\"#46039f\"],[0.2222222222222222,\"#7201a8\"],[0.3333333333333333,\"#9c179e\"],[0.4444444444444444,\"#bd3786\"],[0.5555555555555556,\"#d8576b\"],[0.6666666666666666,\"#ed7953\"],[0.7777777777777778,\"#fb9f3a\"],[0.8888888888888888,\"#fdca26\"],[1.0,\"#f0f921\"]]}],\"heatmapgl\":[{\"type\":\"heatmapgl\",\"colorbar\":{\"outlinewidth\":0,\"ticks\":\"\"},\"colorscale\":[[0.0,\"#0d0887\"],[0.1111111111111111,\"#46039f\"],[0.2222222222222222,\"#7201a8\"],[0.3333333333333333,\"#9c179e\"],[0.4444444444444444,\"#bd3786\"],[0.5555555555555556,\"#d8576b\"],[0.6666666666666666,\"#ed7953\"],[0.7777777777777778,\"#fb9f3a\"],[0.8888888888888888,\"#fdca26\"],[1.0,\"#f0f921\"]]}],\"contourcarpet\":[{\"type\":\"contourcarpet\",\"colorbar\":{\"outlinewidth\":0,\"ticks\":\"\"}}],\"contour\":[{\"type\":\"contour\",\"colorbar\":{\"outlinewidth\":0,\"ticks\":\"\"},\"colorscale\":[[0.0,\"#0d0887\"],[0.1111111111111111,\"#46039f\"],[0.2222222222222222,\"#7201a8\"],[0.3333333333333333,\"#9c179e\"],[0.4444444444444444,\"#bd3786\"],[0.5555555555555556,\"#d8576b\"],[0.6666666666666666,\"#ed7953\"],[0.7777777777777778,\"#fb9f3a\"],[0.8888888888888888,\"#fdca26\"],[1.0,\"#f0f921\"]]}],\"surface\":[{\"type\":\"surface\",\"colorbar\":{\"outlinewidth\":0,\"ticks\":\"\"},\"colorscale\":[[0.0,\"#0d0887\"],[0.1111111111111111,\"#46039f\"],[0.2222222222222222,\"#7201a8\"],[0.3333333333333333,\"#9c179e\"],[0.4444444444444444,\"#bd3786\"],[0.5555555555555556,\"#d8576b\"],[0.6666666666666666,\"#ed7953\"],[0.7777777777777778,\"#fb9f3a\"],[0.8888888888888888,\"#fdca26\"],[1.0,\"#f0f921\"]]}],\"mesh3d\":[{\"type\":\"mesh3d\",\"colorbar\":{\"outlinewidth\":0,\"ticks\":\"\"}}],\"scatter\":[{\"fillpattern\":{\"fillmode\":\"overlay\",\"size\":10,\"solidity\":0.2},\"type\":\"scatter\"}],\"parcoords\":[{\"type\":\"parcoords\",\"line\":{\"colorbar\":{\"outlinewidth\":0,\"ticks\":\"\"}}}],\"scatterpolargl\":[{\"type\":\"scatterpolargl\",\"marker\":{\"colorbar\":{\"outlinewidth\":0,\"ticks\":\"\"}}}],\"bar\":[{\"error_x\":{\"color\":\"#2a3f5f\"},\"error_y\":{\"color\":\"#2a3f5f\"},\"marker\":{\"line\":{\"color\":\"#E5ECF6\",\"width\":0.5},\"pattern\":{\"fillmode\":\"overlay\",\"size\":10,\"solidity\":0.2}},\"type\":\"bar\"}],\"scattergeo\":[{\"type\":\"scattergeo\",\"marker\":{\"colorbar\":{\"outlinewidth\":0,\"ticks\":\"\"}}}],\"scatterpolar\":[{\"type\":\"scatterpolar\",\"marker\":{\"colorbar\":{\"outlinewidth\":0,\"ticks\":\"\"}}}],\"histogram\":[{\"marker\":{\"pattern\":{\"fillmode\":\"overlay\",\"size\":10,\"solidity\":0.2}},\"type\":\"histogram\"}],\"scattergl\":[{\"type\":\"scattergl\",\"marker\":{\"colorbar\":{\"outlinewidth\":0,\"ticks\":\"\"}}}],\"scatter3d\":[{\"type\":\"scatter3d\",\"line\":{\"colorbar\":{\"outlinewidth\":0,\"ticks\":\"\"}},\"marker\":{\"colorbar\":{\"outlinewidth\":0,\"ticks\":\"\"}}}],\"scattermapbox\":[{\"type\":\"scattermapbox\",\"marker\":{\"colorbar\":{\"outlinewidth\":0,\"ticks\":\"\"}}}],\"scatterternary\":[{\"type\":\"scatterternary\",\"marker\":{\"colorbar\":{\"outlinewidth\":0,\"ticks\":\"\"}}}],\"scattercarpet\":[{\"type\":\"scattercarpet\",\"marker\":{\"colorbar\":{\"outlinewidth\":0,\"ticks\":\"\"}}}],\"carpet\":[{\"aaxis\":{\"endlinecolor\":\"#2a3f5f\",\"gridcolor\":\"white\",\"linecolor\":\"white\",\"minorgridcolor\":\"white\",\"startlinecolor\":\"#2a3f5f\"},\"baxis\":{\"endlinecolor\":\"#2a3f5f\",\"gridcolor\":\"white\",\"linecolor\":\"white\",\"minorgridcolor\":\"white\",\"startlinecolor\":\"#2a3f5f\"},\"type\":\"carpet\"}],\"table\":[{\"cells\":{\"fill\":{\"color\":\"#EBF0F8\"},\"line\":{\"color\":\"white\"}},\"header\":{\"fill\":{\"color\":\"#C8D4E3\"},\"line\":{\"color\":\"white\"}},\"type\":\"table\"}],\"barpolar\":[{\"marker\":{\"line\":{\"color\":\"#E5ECF6\",\"width\":0.5},\"pattern\":{\"fillmode\":\"overlay\",\"size\":10,\"solidity\":0.2}},\"type\":\"barpolar\"}],\"pie\":[{\"automargin\":true,\"type\":\"pie\"}]},\"layout\":{\"autotypenumbers\":\"strict\",\"colorway\":[\"#636efa\",\"#EF553B\",\"#00cc96\",\"#ab63fa\",\"#FFA15A\",\"#19d3f3\",\"#FF6692\",\"#B6E880\",\"#FF97FF\",\"#FECB52\"],\"font\":{\"color\":\"#2a3f5f\"},\"hovermode\":\"closest\",\"hoverlabel\":{\"align\":\"left\"},\"paper_bgcolor\":\"white\",\"plot_bgcolor\":\"#E5ECF6\",\"polar\":{\"bgcolor\":\"#E5ECF6\",\"angularaxis\":{\"gridcolor\":\"white\",\"linecolor\":\"white\",\"ticks\":\"\"},\"radialaxis\":{\"gridcolor\":\"white\",\"linecolor\":\"white\",\"ticks\":\"\"}},\"ternary\":{\"bgcolor\":\"#E5ECF6\",\"aaxis\":{\"gridcolor\":\"white\",\"linecolor\":\"white\",\"ticks\":\"\"},\"baxis\":{\"gridcolor\":\"white\",\"linecolor\":\"white\",\"ticks\":\"\"},\"caxis\":{\"gridcolor\":\"white\",\"linecolor\":\"white\",\"ticks\":\"\"}},\"coloraxis\":{\"colorbar\":{\"outlinewidth\":0,\"ticks\":\"\"}},\"colorscale\":{\"sequential\":[[0.0,\"#0d0887\"],[0.1111111111111111,\"#46039f\"],[0.2222222222222222,\"#7201a8\"],[0.3333333333333333,\"#9c179e\"],[0.4444444444444444,\"#bd3786\"],[0.5555555555555556,\"#d8576b\"],[0.6666666666666666,\"#ed7953\"],[0.7777777777777778,\"#fb9f3a\"],[0.8888888888888888,\"#fdca26\"],[1.0,\"#f0f921\"]],\"sequentialminus\":[[0.0,\"#0d0887\"],[0.1111111111111111,\"#46039f\"],[0.2222222222222222,\"#7201a8\"],[0.3333333333333333,\"#9c179e\"],[0.4444444444444444,\"#bd3786\"],[0.5555555555555556,\"#d8576b\"],[0.6666666666666666,\"#ed7953\"],[0.7777777777777778,\"#fb9f3a\"],[0.8888888888888888,\"#fdca26\"],[1.0,\"#f0f921\"]],\"diverging\":[[0,\"#8e0152\"],[0.1,\"#c51b7d\"],[0.2,\"#de77ae\"],[0.3,\"#f1b6da\"],[0.4,\"#fde0ef\"],[0.5,\"#f7f7f7\"],[0.6,\"#e6f5d0\"],[0.7,\"#b8e186\"],[0.8,\"#7fbc41\"],[0.9,\"#4d9221\"],[1,\"#276419\"]]},\"xaxis\":{\"gridcolor\":\"white\",\"linecolor\":\"white\",\"ticks\":\"\",\"title\":{\"standoff\":15},\"zerolinecolor\":\"white\",\"automargin\":true,\"zerolinewidth\":2},\"yaxis\":{\"gridcolor\":\"white\",\"linecolor\":\"white\",\"ticks\":\"\",\"title\":{\"standoff\":15},\"zerolinecolor\":\"white\",\"automargin\":true,\"zerolinewidth\":2},\"scene\":{\"xaxis\":{\"backgroundcolor\":\"#E5ECF6\",\"gridcolor\":\"white\",\"linecolor\":\"white\",\"showbackground\":true,\"ticks\":\"\",\"zerolinecolor\":\"white\",\"gridwidth\":2},\"yaxis\":{\"backgroundcolor\":\"#E5ECF6\",\"gridcolor\":\"white\",\"linecolor\":\"white\",\"showbackground\":true,\"ticks\":\"\",\"zerolinecolor\":\"white\",\"gridwidth\":2},\"zaxis\":{\"backgroundcolor\":\"#E5ECF6\",\"gridcolor\":\"white\",\"linecolor\":\"white\",\"showbackground\":true,\"ticks\":\"\",\"zerolinecolor\":\"white\",\"gridwidth\":2}},\"shapedefaults\":{\"line\":{\"color\":\"#2a3f5f\"}},\"annotationdefaults\":{\"arrowcolor\":\"#2a3f5f\",\"arrowhead\":0,\"arrowwidth\":1},\"geo\":{\"bgcolor\":\"white\",\"landcolor\":\"#E5ECF6\",\"subunitcolor\":\"white\",\"showland\":true,\"showlakes\":true,\"lakecolor\":\"white\"},\"title\":{\"x\":0.05},\"mapbox\":{\"style\":\"light\"}}},\"legend\":{\"x\":1.02,\"y\":0.5},\"margin\":{\"r\":200},\"updatemenus\":[{\"active\":0,\"buttons\":[{\"args\":[{\"visible\":[true,true,true,true,true,true,true,true,true,true]},{\"title\":\"All\"}],\"label\":\"All\",\"method\":\"update\"},{\"args\":[{\"visible\":[true,false,false,false,false,false,false,false,false,false]},{\"title\":\"delta_G1\"}],\"label\":\"delta_G1\",\"method\":\"update\"},{\"args\":[{\"visible\":[false,true,false,false,false,false,false,false,false,false]},{\"title\":\"omega_G1\"}],\"label\":\"omega_G1\",\"method\":\"update\"},{\"args\":[{\"visible\":[false,false,true,false,false,false,false,false,false,false]},{\"title\":\"vTLLd_TL_1_2\"}],\"label\":\"vTLLd_TL_1_2\",\"method\":\"update\"},{\"args\":[{\"visible\":[false,false,false,true,false,false,false,false,false,false]},{\"title\":\"vTLLq_TL_1_2\"}],\"label\":\"vTLLq_TL_1_2\",\"method\":\"update\"},{\"args\":[{\"visible\":[false,false,false,false,true,false,false,false,false,false]},{\"title\":\"iTLMd_TL_1_2\"}],\"label\":\"iTLMd_TL_1_2\",\"method\":\"update\"},{\"args\":[{\"visible\":[false,false,false,false,false,true,false,false,false,false]},{\"title\":\"iTLMq_TL_1_2\"}],\"label\":\"iTLMq_TL_1_2\",\"method\":\"update\"},{\"args\":[{\"visible\":[false,false,false,false,false,false,true,false,false,false]},{\"title\":\"vTLRd_TL_1_2\"}],\"label\":\"vTLRd_TL_1_2\",\"method\":\"update\"},{\"args\":[{\"visible\":[false,false,false,false,false,false,false,true,false,false]},{\"title\":\"vTLRq_TL_1_2\"}],\"label\":\"vTLRq_TL_1_2\",\"method\":\"update\"},{\"args\":[{\"visible\":[false,false,false,false,false,false,false,false,true,false]},{\"title\":\"iLd_L1\"}],\"label\":\"iLd_L1\",\"method\":\"update\"},{\"args\":[{\"visible\":[false,false,false,false,false,false,false,false,false,true]},{\"title\":\"iLq_L1\"}],\"label\":\"iLq_L1\",\"method\":\"update\"}],\"direction\":\"down\",\"type\":\"dropdown\",\"x\":1.02,\"y\":1,\"yanchor\":\"top\"}],\"showlegend\":true,\"width\":1000,\"height\":600,\"xaxis\":{\"rangeslider\":{\"visible\":true}}},                        {\"responsive\": true}                    ).then(function(){\n",
              "                            \n",
              "var gd = document.getElementById('f019486e-b54f-4c55-818d-862fad799b02');\n",
              "var x = new MutationObserver(function (mutations, observer) {{\n",
              "        var display = window.getComputedStyle(gd).display;\n",
              "        if (!display || display === 'none') {{\n",
              "            console.log([gd, 'removed!']);\n",
              "            Plotly.purge(gd);\n",
              "            observer.disconnect();\n",
              "        }}\n",
              "}});\n",
              "\n",
              "// Listen for the removal of the full notebook cells\n",
              "var notebookContainer = gd.closest('#notebook-container');\n",
              "if (notebookContainer) {{\n",
              "    x.observe(notebookContainer, {childList: true});\n",
              "}}\n",
              "\n",
              "// Listen for the clearing of the current output cell\n",
              "var outputEl = gd.closest('.output');\n",
              "if (outputEl) {{\n",
              "    x.observe(outputEl, {childList: true});\n",
              "}}\n",
              "\n",
              "                        })                };                            </script>        </div>\n",
              "</body>\n",
              "</html>"
            ]
          },
          "metadata": {}
        }
      ]
    },
    {
      "cell_type": "markdown",
      "source": [
        "Try messing around with the starting values and seeing how the system reacts when xf is not at equilibrium.\n",
        "\n",
        "Hint: Multiply xf by some constant value like 1.1 and run the previous cell again."
      ],
      "metadata": {
        "id": "_wSpE6Z3ZdNv"
      }
    }
  ]
}